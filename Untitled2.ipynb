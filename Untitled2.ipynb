{
  "metadata": {
    "language_info": {
      "codemirror_mode": {
        "name": "python",
        "version": 3
      },
      "file_extension": ".py",
      "mimetype": "text/x-python",
      "name": "python",
      "nbconvert_exporter": "python",
      "pygments_lexer": "ipython3",
      "version": "3.8"
    },
    "kernelspec": {
      "name": "python",
      "display_name": "Python (Pyodide)",
      "language": "python"
    }
  },
  "nbformat_minor": 4,
  "nbformat": 4,
  "cells": [
    {
      "cell_type": "markdown",
      "source": "# My Awesome Notebook Title",
      "metadata": {}
    },
    {
      "cell_type": "markdown",
      "source": "## Welcome to My Notebook\n\nIn this notebook, we'll be exploring various concepts, ideas, and examples.\n",
      "metadata": {}
    },
    {
      "cell_type": "markdown",
      "source": "## Data Science Languages\n\n- Python\n- R\n- SQL\n- Scala\n- Java\n- C++\n- Julia\n- JavaScript\n- PHP\n- Go\n- Ruby\n- Visual Basic\n\n",
      "metadata": {}
    },
    {
      "cell_type": "markdown",
      "source": "## LIBRARIES USED FOR DATA SCIENCE\n\n- PANDAS \n- NUMPY\n- MATPLOTLIB\n- SEABORN\n- SCIKIT-LEARN\n- KERAS \n- TENSORFLOW \n- PYTOHORCH\n- APACHE SPARRK\n- VEGAS \n- BIG DL \n- Ggplot2\n\n",
      "metadata": {}
    },
    {
      "cell_type": "markdown",
      "source": "## Data Science Tools\n\n| Category         | Tools                                      |\n|------------------|--------------------------------------------|\n| Programming      | Python, R, Julia                           |\n| Data Manipulation| Pandas, dplyr, SQL                         |\n| Visualization    | Matplotlib, Seaborn, ggplot2, Tableau      |\n| Machine Learning | Scikit-Learn, TensorFlow, Keras, XGBoost   |\n| Data Analysis    | Jupyter Notebook, RStudio, VS Code        |\n| Big Data         | Hadoop, Spark, Hive, Pig                   |\n| Cloud Platforms  | AWS, Azure, Google Cloud                   |\n",
      "metadata": {}
    },
    {
      "cell_type": "markdown",
      "source": "## Arithmetic Expression Examples\n\nArithmetic expressions are fundamental in mathematics and programming. They involve various mathematical operations like addition, subtraction, multiplication, and division. Let's explore some examples to better understand these concepts.\n\n### Addition and Subtraction\n\nWhen you want to add or subtract numbers, you can use the `+` and `-` operators, respectively. For instance:\n\n\n",
      "metadata": {}
    },
    {
      "cell_type": "code",
      "source": "5 + 3 # This yields 8\n10 - 4 # This yields 6",
      "metadata": {
        "trusted": true
      },
      "execution_count": 2,
      "outputs": [
        {
          "execution_count": 2,
          "output_type": "execute_result",
          "data": {
            "text/plain": "6"
          },
          "metadata": {}
        }
      ]
    },
    {
      "cell_type": "markdown",
      "source": "\n### Multiplication and Division\n\nMultiplication and division are denoted by `*` and `/` operators, respectively. Here are some examples:\n\n\n",
      "metadata": {}
    },
    {
      "cell_type": "code",
      "source": "6 * 2 # This gives 12\n15 / 3 # This gives 5\n",
      "metadata": {
        "trusted": true
      },
      "execution_count": 3,
      "outputs": [
        {
          "execution_count": 3,
          "output_type": "execute_result",
          "data": {
            "text/plain": "5.0"
          },
          "metadata": {}
        }
      ]
    },
    {
      "cell_type": "markdown",
      "source": "# Multiplication and Addition Example\n",
      "metadata": {}
    },
    {
      "cell_type": "code",
      "source": "number1 = 10\nnumber2 = 3\n\nmultiply_result = number1 * number2\nadd_result = number1 + number2\n\nprint(\"Multiplication Result:\", multiply_result)\nprint(\"Addition Result:\", add_result)",
      "metadata": {
        "trusted": true
      },
      "execution_count": 1,
      "outputs": [
        {
          "name": "stdout",
          "text": "Multiplication Result: 30\nAddition Result: 13\n",
          "output_type": "stream"
        }
      ]
    },
    {
      "cell_type": "markdown",
      "source": "# Convert Minutes to Hours\n\n",
      "metadata": {}
    },
    {
      "cell_type": "code",
      "source": "minutes = 150\n\nhours = minutes / 60\n\nprint(f\"{minutes} minutes is equal to {hours:.2f} hours\")",
      "metadata": {
        "trusted": true
      },
      "execution_count": 4,
      "outputs": [
        {
          "name": "stdout",
          "text": "150 minutes is equal to 2.50 hours\n",
          "output_type": "stream"
        }
      ]
    },
    {
      "cell_type": "markdown",
      "source": "## Objectives\n\nIn this section, we outline the main objectives of our project:\n\n1. **Data Collection**: Gather relevant data from various sources to fuel our analysis.\n\n2. **Data Preprocessing**: Clean and preprocess the data to ensure it's suitable for analysis.\n\n3. **Exploratory Data Analysis (EDA)**: Gain insights by visualizing and summarizing the data.\n\n4. **Model Building**: Develop predictive models using machine learning algorithms.\n\n5. **Model Evaluation**: Assess the performance of the models and fine-tune them as needed.\n\n6. **Interpretation and Insights**: Extract actionable insights from the models' results.\n\nBy achieving these objectives, we aim to provide valuable insights and solutions to the problem at hand.\n\n",
      "metadata": {}
    },
    {
      "cell_type": "markdown",
      "source": "## Author\n\nThis notebook was created by: David Hernandez\n",
      "metadata": {}
    },
    {
      "cell_type": "code",
      "source": "",
      "metadata": {},
      "execution_count": null,
      "outputs": []
    }
  ]
}